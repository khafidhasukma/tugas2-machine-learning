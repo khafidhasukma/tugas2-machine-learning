{
  "cells": [
    {
      "cell_type": "markdown",
      "metadata": {
        "id": "9Qju7bwrUBiO"
      },
      "source": [
        "<a href=\"https://www.nvidia.com/dli\"> <img src=\"images/DLI_Header.png\" alt=\"Header\" style=\"width: 400px;\"/> </a>"
      ]
    },
    {
      "cell_type": "markdown",
      "metadata": {
        "id": "VKUTNLHgUBiR"
      },
      "source": [
        "# JupyterLab\n",
        "For this hands-on lab, we use [JupyterLab](https://jupyterlab.readthedocs.io/en/stable/) to manage our environment.  The [JupyterLab Interface](https://jupyterlab.readthedocs.io/en/stable/user/interface.html) is a dashboard that provides access to interactive iPython notebooks, as well as the folder structure of our environment and a terminal window into the Ubuntu operating system. The first view you'll see includes a **menu bar** at the top, a **file browser** in the **left sidebar**, and a **main work area** that is initially open to the \"Launcher\" page.\n",
        "\n",
        "<img src=\"images/jl_launcher.png\">\n",
        "\n",
        "The file browser can be navigated just like any other file explorer. A double click on any of the items will open a new tab with its content.\n",
        "\n",
        "The main work area includes tabbed views of open files that can be closed, moved, and edited as needed.\n",
        "\n",
        "The notebooks, including this one, consist of a series of content and code **cells**.  To execute code in a code cell, press `Shift+Enter` or the \"Run\" button in the menu bar above, while a cell is highlighted. Sometimes, a content cell will get switched to editing mode. Pressing `Shift+Enter` will switch it back to a readable form.\n",
        "\n",
        "Try executing the simple print statement in the cell below."
      ]
    },
    {
      "cell_type": "code",
      "execution_count": null,
      "metadata": {
        "colab": {
          "base_uri": "https://localhost:8080/"
        },
        "id": "ATim37pHUBiT",
        "outputId": "3a72cad6-bfda-40aa-9fce-b062efcbe99e"
      },
      "outputs": [
        {
          "output_type": "stream",
          "name": "stdout",
          "text": [
            "This is just a simple print statement\n"
          ]
        }
      ],
      "source": [
        "# Highlight this cell and click [Shift+Enter] to execute\n",
        "print('This is just a simple print statement')"
      ]
    },
    {
      "cell_type": "markdown",
      "metadata": {
        "id": "pPlVTL-wUBiW"
      },
      "source": [
        "## Clearing GPU Memory"
      ]
    },
    {
      "cell_type": "markdown",
      "metadata": {
        "id": "8V3lSvL-UBiW"
      },
      "source": [
        "At times you will need to clear the GPUs memory, either to reset the GPU state when an experiment goes wrong, or, in between notebooks when you need a fresh start for a new set of exercises.\n",
        "\n",
        "There are 3 primary ways to clear the GPU memory. The first is to use the ⟳ button on the menu directly above the notebook. Click it now, you should see a prompt asking if it is okay to reset the GPU memory.\n",
        "\n",
        "The second way is via a code cell that we will be providing for you at the end of each notebook. Below is one of these cells which you can run just to get into the right habit."
      ]
    },
    {
      "cell_type": "code",
      "execution_count": null,
      "metadata": {
        "colab": {
          "base_uri": "https://localhost:8080/"
        },
        "id": "q8BIfLbJUBih",
        "outputId": "307dd125-2eb5-45f2-8a8f-fd1028e005bc"
      },
      "outputs": [
        {
          "output_type": "execute_result",
          "data": {
            "text/plain": [
              "{'status': 'ok', 'restart': True}"
            ]
          },
          "metadata": {},
          "execution_count": 2
        }
      ],
      "source": [
        "import IPython\n",
        "app = IPython.Application.instance()\n",
        "app.kernel.do_shutdown(True)"
      ]
    },
    {
      "cell_type": "markdown",
      "metadata": {
        "id": "C4hLOqa8UBii"
      },
      "source": [
        "The final way is with the kernel menu on the left, the dark circle with a light square in it. While the previous two strategies might be considered a \"soft\" reset, this is more of a force \"hard\" stop.\n",
        "\n",
        "## Next"
      ]
    },
    {
      "cell_type": "markdown",
      "metadata": {
        "id": "wI-uEuf3UBii"
      },
      "source": [
        "Now that you are familiar with the interactive environment, you will, in the next section, perform the \"hello world\" of deep learning, training a neural network to perform image classification on handwritten digits. Please continue to [01_mnsist.ipynb](./01_mnist.ipynb)."
      ]
    },
    {
      "cell_type": "markdown",
      "metadata": {
        "id": "p1uxIEhLUBij"
      },
      "source": [
        "<a href=\"https://www.nvidia.com/dli\"> <img src=\"images/DLI_Header.png\" alt=\"Header\" style=\"width: 400px;\"/> </a>"
      ]
    }
  ],
  "metadata": {
    "kernelspec": {
      "display_name": "Python 3",
      "language": "python",
      "name": "python3"
    },
    "language_info": {
      "codemirror_mode": {
        "name": "ipython",
        "version": 3
      },
      "file_extension": ".py",
      "mimetype": "text/x-python",
      "name": "python",
      "nbconvert_exporter": "python",
      "pygments_lexer": "ipython3",
      "version": "3.6.9"
    },
    "colab": {
      "provenance": []
    }
  },
  "nbformat": 4,
  "nbformat_minor": 0
}
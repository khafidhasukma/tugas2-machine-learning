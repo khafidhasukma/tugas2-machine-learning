{
  "cells": [
    {
      "cell_type": "markdown",
      "metadata": {
        "id": "R_L41WH42vN9"
      },
      "source": [
        "Analitika Media Sosial\n",
        "==============\n",
        "\n",
        "***Petunjuk Menggunakan Reguler Expresion***\n",
        "\n",
        "***Universitas Dian Nuswantoro 2022***\n",
        "\n",
        "---"
      ]
    },
    {
      "cell_type": "markdown",
      "metadata": {
        "id": "DG1vTLU42vN_"
      },
      "source": [
        "### Mengenal String dalam Python\n",
        "Sebelum menggunakan library untuk text pre procesing, lebih baik jika mengenal type string dalam python."
      ]
    },
    {
      "cell_type": "code",
      "execution_count": 1,
      "metadata": {
        "colab": {
          "base_uri": "https://localhost:8080/"
        },
        "id": "660OWM4W2vOA",
        "outputId": "16db8302-b3bc-489b-a5aa-18a40e083762"
      },
      "outputs": [
        {
          "output_type": "stream",
          "name": "stdout",
          "text": [
            "22\n"
          ]
        }
      ],
      "source": [
        "word = 'Analitika Media Sosial'\n",
        "print(len(word))"
      ]
    },
    {
      "cell_type": "code",
      "execution_count": 2,
      "metadata": {
        "colab": {
          "base_uri": "https://localhost:8080/"
        },
        "id": "iyRibwrL2vOC",
        "outputId": "b2ac5aaf-bfbc-4662-b9e0-c47f6188a6f3"
      },
      "outputs": [
        {
          "output_type": "stream",
          "name": "stdout",
          "text": [
            "6\n"
          ]
        }
      ],
      "source": [
        "multiline = '''1\n",
        "2\n",
        "3\n",
        "'''\n",
        "print(len(multiline))"
      ]
    },
    {
      "cell_type": "code",
      "execution_count": 3,
      "metadata": {
        "colab": {
          "base_uri": "https://localhost:8080/"
        },
        "id": "GcZvApWv2vOC",
        "outputId": "735cc8b2-d869-40ff-b720-7a4bf79ce6de"
      },
      "outputs": [
        {
          "output_type": "stream",
          "name": "stdout",
          "text": [
            "12\n"
          ]
        }
      ],
      "source": [
        "str1 = '1'\n",
        "str2 = '2'\n",
        "\n",
        "print(str1 + str2)"
      ]
    },
    {
      "cell_type": "code",
      "execution_count": 4,
      "metadata": {
        "colab": {
          "base_uri": "https://localhost:8080/"
        },
        "id": "az7-K_h02vOD",
        "outputId": "4f33b7f8-8d17-4412-df24-6735865596e9"
      },
      "outputs": [
        {
          "output_type": "stream",
          "name": "stdout",
          "text": [
            "97\n",
            "32\n",
            "65\n"
          ]
        }
      ],
      "source": [
        "ch1 = 'a'\n",
        "ch2 = ' ' #space\n",
        "ch3 = 'A'\n",
        "\n",
        "print(ord(ch1))\n",
        "print(ord(ch2))\n",
        "print(ord(ch3))"
      ]
    },
    {
      "cell_type": "code",
      "execution_count": 5,
      "metadata": {
        "colab": {
          "base_uri": "https://localhost:8080/"
        },
        "id": "3LxlE40k2vOD",
        "outputId": "44cc9856-3792-4257-8cc1-6cbb9ba6d4b4"
      },
      "outputs": [
        {
          "output_type": "stream",
          "name": "stdout",
          "text": [
            "A\n"
          ]
        }
      ],
      "source": [
        "print(chr(65))"
      ]
    },
    {
      "cell_type": "code",
      "execution_count": 6,
      "metadata": {
        "colab": {
          "base_uri": "https://localhost:8080/"
        },
        "id": "Cdzs43V52vOD",
        "outputId": "7aa8f1f9-8e7e-4111-c894-99c6f6db3074"
      },
      "outputs": [
        {
          "output_type": "stream",
          "name": "stdout",
          "text": [
            "nltk Md Ssl"
          ]
        }
      ],
      "source": [
        "cthString=\"Analitika Media Sosial\"\n",
        "vokal = ['a','i','u','e','o']\n",
        "\n",
        "for i in range(len(cthString)):\n",
        "    if cthString[i].lower() in vokal:\n",
        "        continue\n",
        "    print(cthString[i], end=\"\")"
      ]
    },
    {
      "cell_type": "code",
      "execution_count": 7,
      "metadata": {
        "colab": {
          "base_uri": "https://localhost:8080/"
        },
        "id": "x7wlpo5g2vOE",
        "outputId": "16eace16-67d5-418f-9f04-c3c4e626e9e6"
      },
      "outputs": [
        {
          "output_type": "stream",
          "name": "stdout",
          "text": [
            "nt iol\n",
            "nali\n",
            "litika Media Sosial\n",
            "Ana\n",
            "AaiiaMdaSsa\n"
          ]
        }
      ],
      "source": [
        "cthSlice = \"Analitika Media Sosial\"\n",
        "\n",
        "print(cthSlice[1::4])\n",
        "print(cthSlice[1:5])\n",
        "print(cthSlice[3:])\n",
        "print(cthSlice[:3])\n",
        "print(cthSlice[::2])"
      ]
    },
    {
      "cell_type": "code",
      "execution_count": 14,
      "metadata": {
        "colab": {
          "base_uri": "https://localhost:8080/"
        },
        "id": "cnG5dZLa2vOE",
        "outputId": "169d098b-fa34-49fe-ec2c-7669885da211"
      },
      "outputs": [
        {
          "output_type": "stream",
          "name": "stdout",
          "text": [
            "b\n"
          ]
        }
      ],
      "source": [
        "alphabet = 'abcdefghijklmnopqrstuvwxyz'\n",
        "\n",
        "print(alphabet[1])\n",
        "alphabet_list = list(alphabet)\n",
        "del alphabet_list[0]\n",
        "# Convert the list back to a string if needed\n",
        "alphabet = \"\".join(alphabet_list)"
      ]
    },
    {
      "cell_type": "code",
      "execution_count": 16,
      "metadata": {
        "colab": {
          "base_uri": "https://localhost:8080/"
        },
        "id": "sQWO5ak92vOF",
        "outputId": "1e51b336-7962-4f50-8257-63703fd7ff84"
      },
      "outputs": [
        {
          "output_type": "stream",
          "name": "stdout",
          "text": [
            "Abcdefghijklmnopqrstuvwxyz\n"
          ]
        }
      ],
      "source": [
        "alphabet = \"A\" + alphabet\n",
        "print(alphabet)"
      ]
    },
    {
      "cell_type": "code",
      "execution_count": 18,
      "metadata": {
        "colab": {
          "base_uri": "https://localhost:8080/"
        },
        "id": "vParBEd92vOF",
        "outputId": "c2863029-d9a4-4de9-ef92-b38b1674367b"
      },
      "outputs": [
        {
          "output_type": "stream",
          "name": "stdout",
          "text": [
            "A\n"
          ]
        }
      ],
      "source": [
        "print(min(\"aAbByYzZ\"))"
      ]
    },
    {
      "cell_type": "code",
      "execution_count": 19,
      "metadata": {
        "colab": {
          "base_uri": "https://localhost:8080/"
        },
        "id": "8GgT2eIl2vOF",
        "outputId": "b9542059-7f30-421f-acac-439007bde07c"
      },
      "outputs": [
        {
          "output_type": "stream",
          "name": "stdout",
          "text": [
            "3\n"
          ]
        }
      ],
      "source": [
        "t = \"theta\"\n",
        "print(t.find('ta'))"
      ]
    },
    {
      "cell_type": "code",
      "execution_count": 20,
      "metadata": {
        "colab": {
          "base_uri": "https://localhost:8080/"
        },
        "id": "WsLEAklN2vOF",
        "outputId": "293955a6-28e4-49be-d46c-f18dda72a7ee"
      },
      "outputs": [
        {
          "output_type": "stream",
          "name": "stdout",
          "text": [
            "15\n",
            "80\n",
            "198\n",
            "221\n",
            "238\n"
          ]
        }
      ],
      "source": [
        "txt = \"\"\"A variation of the ordinary lorem ipsum\n",
        "text has been used in typesetting since the 1960s\n",
        "or earlier, when it was popularized by advertisements\n",
        "for Letraset transfer sheets. It was introduced to\n",
        "the Information Age in the mid-1980s by the Aldus Corporation,\n",
        "which employed it in graphics and word-processing templates\n",
        "for its desktop publishing program PageMaker (from Wikipedia)\"\"\"\n",
        "\n",
        "fnd = txt.find('the')\n",
        "while fnd != -1:\n",
        "    print(fnd)\n",
        "    fnd = txt.find('the', fnd + 1)"
      ]
    },
    {
      "cell_type": "markdown",
      "metadata": {
        "id": "nJ8JI_Sv2vOG"
      },
      "source": [
        "#### 1. Some of the methods offered by strings are:\n",
        "\n",
        "- `capitalize()` – changes all string letters to capitals;\n",
        "- `center()` – centers the string inside the field of a known length;\n",
        "- `count()` – counts the occurrences of a given character;\n",
        "- `join()` – joins all items of a tuple/list into one string;\n",
        "- `lower()` – converts all the string's letters into lower-case letters;\n",
        "- `lstrip()` – removes the white characters from the beginning of the string;\n",
        "- `replace()` – replaces a given substring with another;\n",
        "- `rfind()` – finds a substring starting from the end of the string;\n",
        "- `rstrip()` – removes the trailing white spaces from the end of the string;\n",
        "- `split()` – splits the string into a substring using a given delimiter;\n",
        "- `strip()` – removes the leading and trailing white spaces;\n",
        "- `swapcase()` – swaps the letters' cases (lower to upper and vice versa)\n",
        "- `title()` – makes the first letter in each word upper-case;\n",
        "- `upper()` – converts all the string's letter into upper-case letters.\n",
        "\n",
        "#### 2. String content can be determined using the following methods (all of them return Boolean values):\n",
        "\n",
        "- `endswith()` – does the string end with a given substring?\n",
        "- `isalnum()` – does the string consist only of letters and digits?\n",
        "- `isalpha()` – does the string consist only of letters?\n",
        "- `islower()` – does the string consists only of lower-case letters?\n",
        "- `isspace()` – does the string consists only of white spaces?\n",
        "- `isupper()` – does the string consists only of upper-case letters?\n",
        "- `startswith()` – does the string begin with a given substring?"
      ]
    },
    {
      "cell_type": "markdown",
      "metadata": {
        "id": "tW8OVjjB2vOG"
      },
      "source": [
        "# Table of contents\n",
        "- [Cleaning Words](#cleaning-words)\n",
        "    - [import library](#import-library)\n",
        "    - [remove tab new line and back slice](#remove-tab-new-line-and-back-slice)\n",
        "    - [remove non ASCII emoticon chinese word](#remove-non-ASCII-emoticon-chinese-word)\n",
        "    - [remove mention link hashtag](#remove-mention-link-hashtag)\n",
        "    - [remove RT](#remove-rt)\n",
        "    - [lower](#lower)\n",
        "    - [remove incomplete url](#remove-incomplete-url)\n",
        "    - [remove number](#remove-number)\n",
        "    - [remove whitespace leading and trailing](#remove-whitespace-leading-and-trailing)\n",
        "    - [remove multiple whitespace into single whitespace](#remove-multiple-whitespace-into-single-whitespace)\n",
        "    - [remove single char](#remove-single-char)\n",
        "    - [remove excessive dot](#remove-excessive-dot)\n",
        "    - [remove punctuation](#remove-punctuation)\n",
        "    - [remove excessive whitespace](#remove-excessive-whitespace)"
      ]
    },
    {
      "cell_type": "markdown",
      "metadata": {
        "id": "uU73NCaZ2vOH"
      },
      "source": [
        "# Cleaning Words <a name=\"cleaning-words\"></a>\n",
        "\n",
        "asumsikan kita sudah mendapat data dari twitter, kemudian kita ingin membersihkan datanya. Maka, kita bisa menggunakan `regular expression`\n",
        "\n",
        "sebagai contoh:\n",
        "\n",
        "`RT : @alzami1986 suka menonton Attack on Titans! (進撃の巨人) #aot  setiap kamis pukul 21.00 di http://netflix.com/aot . \\\\n meski tidak suka kekerasan, tapi cukup menikmati ?! #EldiaHarusMenang melawan #Marley  A ... `"
      ]
    },
    {
      "cell_type": "code",
      "execution_count": 21,
      "metadata": {
        "id": "Iywmj3P32vOH"
      },
      "outputs": [],
      "source": [
        "text = 'RT : @alzami1986 suka menonton Attack on Titans! (進撃の巨人) #aot  setiap kamis pukul 21.00 di http://netflix.com/aot . \\\\n meski tidak suka kekerasan, tapi cukup menikmati ?! #EldiaHarusMenang melawan #Marley  A ...'"
      ]
    },
    {
      "cell_type": "code",
      "execution_count": 22,
      "metadata": {
        "colab": {
          "base_uri": "https://localhost:8080/"
        },
        "id": "i0nkAZyC2vOH",
        "outputId": "169f1370-a6f2-4d01-d45d-549b69ffdeea"
      },
      "outputs": [
        {
          "output_type": "stream",
          "name": "stdout",
          "text": [
            "RT : @alzami1986 suka menonton Attack on Titans! (進撃の巨人) #aot  setiap kamis pukul 21.00 di http://netflix.com/aot . \\n meski tidak suka kekerasan, tapi cukup menikmati ?! #EldiaHarusMenang melawan #Marley  A ...\n"
          ]
        }
      ],
      "source": [
        "print(text)"
      ]
    },
    {
      "cell_type": "markdown",
      "metadata": {
        "id": "uducNejM2vOH"
      },
      "source": [
        "## import library <a name=\"import-library\"></a>"
      ]
    },
    {
      "cell_type": "code",
      "execution_count": 23,
      "metadata": {
        "id": "VKb4yXQk2vOH"
      },
      "outputs": [],
      "source": [
        "import re\n",
        "import string\n",
        "import time\n",
        "from copy import deepcopy"
      ]
    },
    {
      "cell_type": "markdown",
      "metadata": {
        "id": "w0zpiEAn2vOI"
      },
      "source": [
        "## remove tab new line and back slice  <a name=\"remove-tab-new-line-and-back-slice\"></a>"
      ]
    },
    {
      "cell_type": "code",
      "execution_count": 24,
      "metadata": {
        "id": "6-CUoC4t2vOI"
      },
      "outputs": [],
      "source": [
        "hasil = text.replace('\\\\t',\" \").replace('\\\\n',\" \").replace('\\\\u',\" \").replace('\\\\',\"\")"
      ]
    },
    {
      "cell_type": "code",
      "execution_count": 25,
      "metadata": {
        "colab": {
          "base_uri": "https://localhost:8080/",
          "height": 53
        },
        "id": "S3G_MlRu2vOI",
        "outputId": "4220baf4-0a16-4e10-83f6-5604925c3fe9"
      },
      "outputs": [
        {
          "output_type": "execute_result",
          "data": {
            "text/plain": [
              "'RT : @alzami1986 suka menonton Attack on Titans! (進撃の巨人) #aot  setiap kamis pukul 21.00 di http://netflix.com/aot .   meski tidak suka kekerasan, tapi cukup menikmati ?! #EldiaHarusMenang melawan #Marley  A ...'"
            ],
            "application/vnd.google.colaboratory.intrinsic+json": {
              "type": "string"
            }
          },
          "metadata": {},
          "execution_count": 25
        }
      ],
      "source": [
        "hasil"
      ]
    },
    {
      "cell_type": "markdown",
      "metadata": {
        "id": "wE6D6YNY2vOI"
      },
      "source": [
        "## remove non ASCII emoticon chinese word <a name=\"remove-non-ASCII-emoticon-chinese-word\"></a>"
      ]
    },
    {
      "cell_type": "code",
      "execution_count": 26,
      "metadata": {
        "id": "1c9dHOFH2vOI"
      },
      "outputs": [],
      "source": [
        "hasil = hasil.encode('ascii', 'replace').decode('ascii')"
      ]
    },
    {
      "cell_type": "code",
      "execution_count": 27,
      "metadata": {
        "colab": {
          "base_uri": "https://localhost:8080/",
          "height": 53
        },
        "id": "gtE67Mn62vOJ",
        "outputId": "cd00726a-1851-4c17-9176-791b957637de"
      },
      "outputs": [
        {
          "output_type": "execute_result",
          "data": {
            "text/plain": [
              "'RT : @alzami1986 suka menonton Attack on Titans! (?????) #aot  setiap kamis pukul 21.00 di http://netflix.com/aot .   meski tidak suka kekerasan, tapi cukup menikmati ?! #EldiaHarusMenang melawan #Marley  A ...'"
            ],
            "application/vnd.google.colaboratory.intrinsic+json": {
              "type": "string"
            }
          },
          "metadata": {},
          "execution_count": 27
        }
      ],
      "source": [
        "hasil"
      ]
    },
    {
      "cell_type": "markdown",
      "metadata": {
        "id": "iyphUMhm2vOJ"
      },
      "source": [
        "## remove mention, link, hashtag <a name=\"remove-mention-link-hashtag\"></a>"
      ]
    },
    {
      "cell_type": "code",
      "execution_count": 28,
      "metadata": {
        "id": "Fdr3WV8F2vOJ"
      },
      "outputs": [],
      "source": [
        "hasil = ' '.join(re.sub(\"([@#][A-Za-z0-9]+)|(\\w+:\\/\\/\\S+)\",\" \", hasil).split())"
      ]
    },
    {
      "cell_type": "code",
      "execution_count": 29,
      "metadata": {
        "colab": {
          "base_uri": "https://localhost:8080/",
          "height": 36
        },
        "id": "ZuJOjsdO2vOJ",
        "outputId": "1a67b525-aa07-48f1-f3f3-838b93f3fed7"
      },
      "outputs": [
        {
          "output_type": "execute_result",
          "data": {
            "text/plain": [
              "'RT : suka menonton Attack on Titans! (?????) setiap kamis pukul 21.00 di . meski tidak suka kekerasan, tapi cukup menikmati ?! melawan A ...'"
            ],
            "application/vnd.google.colaboratory.intrinsic+json": {
              "type": "string"
            }
          },
          "metadata": {},
          "execution_count": 29
        }
      ],
      "source": [
        "hasil"
      ]
    },
    {
      "cell_type": "markdown",
      "metadata": {
        "id": "WBg5V5AO2vOJ"
      },
      "source": [
        "## remove RT <a name=\"remove-rt\"></a>"
      ]
    },
    {
      "cell_type": "code",
      "execution_count": 30,
      "metadata": {
        "id": "rUtr1RcV2vOK"
      },
      "outputs": [],
      "source": [
        "hasil = hasil.replace('RT : ',\"\")"
      ]
    },
    {
      "cell_type": "code",
      "execution_count": 31,
      "metadata": {
        "colab": {
          "base_uri": "https://localhost:8080/",
          "height": 36
        },
        "id": "cyhoLY2N2vOK",
        "outputId": "c091fa4b-a513-432b-ab43-a3314e590719"
      },
      "outputs": [
        {
          "output_type": "execute_result",
          "data": {
            "text/plain": [
              "'suka menonton Attack on Titans! (?????) setiap kamis pukul 21.00 di . meski tidak suka kekerasan, tapi cukup menikmati ?! melawan A ...'"
            ],
            "application/vnd.google.colaboratory.intrinsic+json": {
              "type": "string"
            }
          },
          "metadata": {},
          "execution_count": 31
        }
      ],
      "source": [
        "hasil"
      ]
    },
    {
      "cell_type": "markdown",
      "metadata": {
        "id": "vU0XaiWb2vOK"
      },
      "source": [
        "## lower <a name=\"lower\"></a>"
      ]
    },
    {
      "cell_type": "code",
      "execution_count": 32,
      "metadata": {
        "id": "uVGDzTYR2vOK"
      },
      "outputs": [],
      "source": [
        "hasil = hasil.lower()"
      ]
    },
    {
      "cell_type": "code",
      "execution_count": 33,
      "metadata": {
        "colab": {
          "base_uri": "https://localhost:8080/",
          "height": 36
        },
        "id": "6JWUcZk42vOK",
        "outputId": "0d394ab9-fbd6-4444-8f92-89bce30e35b5"
      },
      "outputs": [
        {
          "output_type": "execute_result",
          "data": {
            "text/plain": [
              "'suka menonton attack on titans! (?????) setiap kamis pukul 21.00 di . meski tidak suka kekerasan, tapi cukup menikmati ?! melawan a ...'"
            ],
            "application/vnd.google.colaboratory.intrinsic+json": {
              "type": "string"
            }
          },
          "metadata": {},
          "execution_count": 33
        }
      ],
      "source": [
        "hasil"
      ]
    },
    {
      "cell_type": "markdown",
      "metadata": {
        "id": "BYstYBfP2vOL"
      },
      "source": [
        "## remove incomplete URL <a name=\"remove-incomplete-url\"></a>"
      ]
    },
    {
      "cell_type": "code",
      "execution_count": 34,
      "metadata": {
        "id": "Jg1SNZ5o2vOL"
      },
      "outputs": [],
      "source": [
        "hasil = hasil.replace('http://',\"\").replace('https://',\"\")"
      ]
    },
    {
      "cell_type": "code",
      "execution_count": 35,
      "metadata": {
        "colab": {
          "base_uri": "https://localhost:8080/",
          "height": 36
        },
        "id": "QTHxF6n12vOL",
        "outputId": "13b736d6-885f-48aa-c7c2-29ba1daca793"
      },
      "outputs": [
        {
          "output_type": "execute_result",
          "data": {
            "text/plain": [
              "'suka menonton attack on titans! (?????) setiap kamis pukul 21.00 di . meski tidak suka kekerasan, tapi cukup menikmati ?! melawan a ...'"
            ],
            "application/vnd.google.colaboratory.intrinsic+json": {
              "type": "string"
            }
          },
          "metadata": {},
          "execution_count": 35
        }
      ],
      "source": [
        "hasil"
      ]
    },
    {
      "cell_type": "markdown",
      "metadata": {
        "id": "teumC2Is2vON"
      },
      "source": [
        "## remove number <a name=\"remove-number\"></a>"
      ]
    },
    {
      "cell_type": "code",
      "execution_count": 36,
      "metadata": {
        "id": "CzpZjiaK2vON"
      },
      "outputs": [],
      "source": [
        "def remove_number(hasil):\n",
        "    return re.sub(r\"\\d+\", \"\", hasil)"
      ]
    },
    {
      "cell_type": "code",
      "execution_count": 37,
      "metadata": {
        "id": "z3qQASM72vON"
      },
      "outputs": [],
      "source": [
        "hasil = remove_number(hasil)"
      ]
    },
    {
      "cell_type": "code",
      "execution_count": 38,
      "metadata": {
        "colab": {
          "base_uri": "https://localhost:8080/",
          "height": 36
        },
        "id": "WDZG-vUG2vON",
        "outputId": "53684c13-2a7c-49a1-aed9-bf0f203e74be"
      },
      "outputs": [
        {
          "output_type": "execute_result",
          "data": {
            "text/plain": [
              "'suka menonton attack on titans! (?????) setiap kamis pukul . di . meski tidak suka kekerasan, tapi cukup menikmati ?! melawan a ...'"
            ],
            "application/vnd.google.colaboratory.intrinsic+json": {
              "type": "string"
            }
          },
          "metadata": {},
          "execution_count": 38
        }
      ],
      "source": [
        "hasil"
      ]
    },
    {
      "cell_type": "markdown",
      "metadata": {
        "id": "B2PCc0Nt2vOO"
      },
      "source": [
        "## remove whitespace leading and trailing <a name=\"remove-whitespace-leading-and-trailing\"></a>\n",
        "\n",
        "digunakan untuk menghapus tanda spasi setelah titik pada akhir kalimat"
      ]
    },
    {
      "cell_type": "code",
      "execution_count": 39,
      "metadata": {
        "id": "d7ah2f6a2vOO"
      },
      "outputs": [],
      "source": [
        "def remove_whitespace(hasil):\n",
        "    return hasil.strip()"
      ]
    },
    {
      "cell_type": "code",
      "execution_count": 40,
      "metadata": {
        "id": "s4laJAC82vOO"
      },
      "outputs": [],
      "source": [
        "hasil = remove_whitespace(hasil)"
      ]
    },
    {
      "cell_type": "code",
      "execution_count": 41,
      "metadata": {
        "colab": {
          "base_uri": "https://localhost:8080/",
          "height": 53
        },
        "id": "hhX9gMgZ2vOO",
        "outputId": "fb35c02f-1201-4a07-b305-2e89ddbd38ce"
      },
      "outputs": [
        {
          "output_type": "execute_result",
          "data": {
            "text/plain": [
              "'RT : @alzami1986 suka menonton Attack on Titans! (進撃の巨人) #aot  setiap kamis pukul 21.00 di http://netflix.com/aot . \\\\n meski tidak suka kekerasan, tapi cukup menikmati ?! #EldiaHarusMenang melawan #Marley  A ...'"
            ],
            "application/vnd.google.colaboratory.intrinsic+json": {
              "type": "string"
            }
          },
          "metadata": {},
          "execution_count": 41
        }
      ],
      "source": [
        "text"
      ]
    },
    {
      "cell_type": "code",
      "execution_count": 42,
      "metadata": {
        "colab": {
          "base_uri": "https://localhost:8080/",
          "height": 36
        },
        "id": "7hnCOfFm2vOO",
        "outputId": "b18a07d3-5635-4403-835c-2f34c17b26a3"
      },
      "outputs": [
        {
          "output_type": "execute_result",
          "data": {
            "text/plain": [
              "'suka menonton attack on titans! (?????) setiap kamis pukul . di . meski tidak suka kekerasan, tapi cukup menikmati ?! melawan a ...'"
            ],
            "application/vnd.google.colaboratory.intrinsic+json": {
              "type": "string"
            }
          },
          "metadata": {},
          "execution_count": 42
        }
      ],
      "source": [
        "hasil"
      ]
    },
    {
      "cell_type": "markdown",
      "metadata": {
        "id": "OvL_b0XM2vOP"
      },
      "source": [
        "## remove multiple whitespace into single whitespace <a name=\"remove-multiple-whitespace-into-single-whitespace\"></a>"
      ]
    },
    {
      "cell_type": "code",
      "execution_count": 43,
      "metadata": {
        "id": "QXQQCBn_2vOP"
      },
      "outputs": [],
      "source": [
        "def remove_whitespace_multi(hasil):\n",
        "    return re.sub('\\s+',' ',hasil)"
      ]
    },
    {
      "cell_type": "code",
      "execution_count": 44,
      "metadata": {
        "id": "v6pchypH2vOP"
      },
      "outputs": [],
      "source": [
        "hasil = remove_whitespace_multi(hasil)"
      ]
    },
    {
      "cell_type": "code",
      "execution_count": 45,
      "metadata": {
        "colab": {
          "base_uri": "https://localhost:8080/",
          "height": 36
        },
        "id": "NQtMpuxo2vOP",
        "outputId": "3fac4ebe-4cca-4165-dbf6-bed5cfac5da0"
      },
      "outputs": [
        {
          "output_type": "execute_result",
          "data": {
            "text/plain": [
              "'suka menonton attack on titans! (?????) setiap kamis pukul . di . meski tidak suka kekerasan, tapi cukup menikmati ?! melawan a ...'"
            ],
            "application/vnd.google.colaboratory.intrinsic+json": {
              "type": "string"
            }
          },
          "metadata": {},
          "execution_count": 45
        }
      ],
      "source": [
        "hasil"
      ]
    },
    {
      "cell_type": "markdown",
      "metadata": {
        "id": "zCG4v6UH2vOQ"
      },
      "source": [
        "## remove single char <a name=\"remove-single-char\"></a>"
      ]
    },
    {
      "cell_type": "code",
      "execution_count": 46,
      "metadata": {
        "id": "oM33oxIm2vOQ"
      },
      "outputs": [],
      "source": [
        "def remove_single_char(hasil):\n",
        "    return re.sub(r\"\\b[a-zA-Z]\\b\", \"\", hasil)"
      ]
    },
    {
      "cell_type": "code",
      "execution_count": 47,
      "metadata": {
        "id": "4iIV8Ukh2vOQ"
      },
      "outputs": [],
      "source": [
        "hasil = remove_single_char(hasil)"
      ]
    },
    {
      "cell_type": "code",
      "execution_count": 48,
      "metadata": {
        "colab": {
          "base_uri": "https://localhost:8080/",
          "height": 36
        },
        "id": "cnH1A4Uf2vOQ",
        "outputId": "a66592b9-d9c0-45be-fe13-9b09f5ceef7b"
      },
      "outputs": [
        {
          "output_type": "execute_result",
          "data": {
            "text/plain": [
              "'suka menonton attack on titans! (?????) setiap kamis pukul . di . meski tidak suka kekerasan, tapi cukup menikmati ?! melawan  ...'"
            ],
            "application/vnd.google.colaboratory.intrinsic+json": {
              "type": "string"
            }
          },
          "metadata": {},
          "execution_count": 48
        }
      ],
      "source": [
        "hasil"
      ]
    },
    {
      "cell_type": "markdown",
      "metadata": {
        "id": "gyrLVJeD2vOR"
      },
      "source": [
        "## remove excessive dot <a name=\"remove-excessive-dot\"></a>"
      ]
    },
    {
      "cell_type": "code",
      "execution_count": 49,
      "metadata": {
        "id": "f0287wmM2vOR"
      },
      "outputs": [],
      "source": [
        "def remove_excessive_dot(hasil):\n",
        "    return hasil.replace('...',\" \")"
      ]
    },
    {
      "cell_type": "code",
      "execution_count": 50,
      "metadata": {
        "id": "v4A3Zoqo2vOR"
      },
      "outputs": [],
      "source": [
        "hasil = remove_excessive_dot(hasil)"
      ]
    },
    {
      "cell_type": "code",
      "execution_count": 51,
      "metadata": {
        "colab": {
          "base_uri": "https://localhost:8080/",
          "height": 36
        },
        "id": "Ur_mUrK82vOR",
        "outputId": "63a38fd8-78a5-42c3-d8e1-377f220a3d52"
      },
      "outputs": [
        {
          "output_type": "execute_result",
          "data": {
            "text/plain": [
              "'suka menonton attack on titans! (?????) setiap kamis pukul . di . meski tidak suka kekerasan, tapi cukup menikmati ?! melawan   '"
            ],
            "application/vnd.google.colaboratory.intrinsic+json": {
              "type": "string"
            }
          },
          "metadata": {},
          "execution_count": 51
        }
      ],
      "source": [
        "hasil"
      ]
    },
    {
      "cell_type": "markdown",
      "metadata": {
        "id": "h71LP4q42vOS"
      },
      "source": [
        "## remove punctuation <a name=\"remove-punctuation\"></a>"
      ]
    },
    {
      "cell_type": "code",
      "execution_count": 52,
      "metadata": {
        "id": "ahlmAK1B2vOS"
      },
      "outputs": [],
      "source": [
        "def remove_punctuation(hasil):\n",
        "    return hasil.translate(str.maketrans(\"\",\"\",string.punctuation))"
      ]
    },
    {
      "cell_type": "code",
      "execution_count": 53,
      "metadata": {
        "id": "dxL45Onc2vOS"
      },
      "outputs": [],
      "source": [
        "hasil = remove_punctuation(hasil)"
      ]
    },
    {
      "cell_type": "code",
      "execution_count": 54,
      "metadata": {
        "colab": {
          "base_uri": "https://localhost:8080/",
          "height": 53
        },
        "id": "XLYDB-yc2vOS",
        "outputId": "6749f8c6-6a1d-4859-cc71-0e1eb4e39c2b"
      },
      "outputs": [
        {
          "output_type": "execute_result",
          "data": {
            "text/plain": [
              "'RT : @alzami1986 suka menonton Attack on Titans! (進撃の巨人) #aot  setiap kamis pukul 21.00 di http://netflix.com/aot . \\\\n meski tidak suka kekerasan, tapi cukup menikmati ?! #EldiaHarusMenang melawan #Marley  A ...'"
            ],
            "application/vnd.google.colaboratory.intrinsic+json": {
              "type": "string"
            }
          },
          "metadata": {},
          "execution_count": 54
        }
      ],
      "source": [
        "text"
      ]
    },
    {
      "cell_type": "code",
      "execution_count": 55,
      "metadata": {
        "colab": {
          "base_uri": "https://localhost:8080/",
          "height": 36
        },
        "id": "Pmt93MR32vOT",
        "outputId": "bc8757c6-0eb8-4a9b-a224-627a8ca6ae6b"
      },
      "outputs": [
        {
          "output_type": "execute_result",
          "data": {
            "text/plain": [
              "'suka menonton attack on titans  setiap kamis pukul  di  meski tidak suka kekerasan tapi cukup menikmati  melawan   '"
            ],
            "application/vnd.google.colaboratory.intrinsic+json": {
              "type": "string"
            }
          },
          "metadata": {},
          "execution_count": 55
        }
      ],
      "source": [
        "hasil"
      ]
    },
    {
      "cell_type": "markdown",
      "metadata": {
        "id": "LlQJ6hu_2vOT"
      },
      "source": [
        "## remove excessive whitespace <a name=\"remove-excessive-whitespace\"></a>"
      ]
    },
    {
      "cell_type": "code",
      "execution_count": 56,
      "metadata": {
        "id": "k4-aPFcb2vOT"
      },
      "outputs": [],
      "source": [
        "document = \" saya                    tidak suka sambal     bikin sakit    \""
      ]
    },
    {
      "cell_type": "code",
      "execution_count": 57,
      "metadata": {
        "id": "BAoy-_Rf2vOT"
      },
      "outputs": [],
      "source": [
        "nowhite = ' '.join(document.split())"
      ]
    },
    {
      "cell_type": "code",
      "execution_count": 58,
      "metadata": {
        "colab": {
          "base_uri": "https://localhost:8080/",
          "height": 36
        },
        "id": "I4kKcqDe2vOU",
        "outputId": "90d6a1aa-342c-42c1-f165-17460653d047"
      },
      "outputs": [
        {
          "output_type": "execute_result",
          "data": {
            "text/plain": [
              "'saya tidak suka sambal bikin sakit'"
            ],
            "application/vnd.google.colaboratory.intrinsic+json": {
              "type": "string"
            }
          },
          "metadata": {},
          "execution_count": 58
        }
      ],
      "source": [
        "nowhite"
      ]
    }
  ],
  "metadata": {
    "kernelspec": {
      "display_name": "Python 3 (ipykernel)",
      "language": "python",
      "name": "python3"
    },
    "language_info": {
      "codemirror_mode": {
        "name": "ipython",
        "version": 3
      },
      "file_extension": ".py",
      "mimetype": "text/x-python",
      "name": "python",
      "nbconvert_exporter": "python",
      "pygments_lexer": "ipython3",
      "version": "3.9.5"
    },
    "colab": {
      "provenance": []
    }
  },
  "nbformat": 4,
  "nbformat_minor": 0
}